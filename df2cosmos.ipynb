{
 "cells": [
  {
   "cell_type": "code",
   "execution_count": 12,
   "metadata": {},
   "outputs": [],
   "source": [
    "import pandas as pd\n",
    "from datetime import datetime, timedelta\n",
    "\n",
    "df = pd.read_excel(\"D:/Browns/Web Scrapping/top_5_motorbikes.xlsx\")\n",
    "\n",
    "# Clean dataframe: convert NaN -> None\n",
    "df_cleaned = df.where(pd.notnull(df), None)\n",
    "\n",
    "data_json = df_cleaned.to_dict(orient=\"records\")\n"
   ]
  },
  {
   "cell_type": "code",
   "execution_count": 4,
   "metadata": {},
   "outputs": [],
   "source": [
    "#data_json"
   ]
  },
  {
   "cell_type": "code",
   "execution_count": 10,
   "metadata": {},
   "outputs": [],
   "source": [
    "import os\n",
    "from dotenv import load_dotenv\n",
    "from azure.cosmos import CosmosClient, PartitionKey\n",
    "from datetime import datetime, timedelta\n",
    "\n",
    "# Load Cosmos credentials from .env\n",
    "load_dotenv()\n",
    "cosmos_endpoint = os.getenv(\"cosmos_e\")\n",
    "cosmos_key = os.getenv(\"cosmos_k\")\n",
    "\n",
    "# Check if the environment variables are loaded correctly\n",
    "if not cosmos_endpoint or not cosmos_key:\n",
    "    raise ValueError(\"Cosmos endpoint or key is missing. Please check your .env file.\")\n",
    "\n",
    "# Cosmos setup\n",
    "client = CosmosClient(cosmos_endpoint, cosmos_key)\n",
    "database_name = \"sachithws\"\n",
    "\n",
    "# Create database if not exists\n",
    "db = client.create_database_if_not_exists(id=database_name)\n",
    "\n",
    "# Create container with next day's date as name\n",
    "next_date = (datetime.today() + timedelta(days=1)).strftime('%Y-%m-%d')\n",
    "container_name = next_date\n",
    "\n",
    "container = db.create_container_if_not_exists(\n",
    "    id=container_name,\n",
    "    partition_key=PartitionKey(path=\"/id\"),\n",
    "    \n",
    ")"
   ]
  },
  {
   "cell_type": "code",
   "execution_count": 14,
   "metadata": {},
   "outputs": [
    {
     "name": "stdout",
     "output_type": "stream",
     "text": [
      " Uploaded record 1\n",
      " Uploaded record 2\n",
      " Uploaded record 3\n",
      " Uploaded record 4\n",
      " Uploaded record 5\n"
     ]
    }
   ],
   "source": [
    "\n",
    "# Step 2: Insert to Cosmos DB\n",
    "for idx, item in enumerate(data_json):\n",
    "    item['id'] = str(idx + 1)  # Required by Cosmos DB\n",
    "    if pd.isna(item.get('Kilometers')):\n",
    "        item['Kilometers'] = None\n",
    "    container.upsert_item(item)\n",
    "    print(f\" Uploaded record {idx + 1}\")\n",
    "\n",
    "\n"
   ]
  }
 ],
 "metadata": {
  "kernelspec": {
   "display_name": ".conda",
   "language": "python",
   "name": "python3"
  },
  "language_info": {
   "codemirror_mode": {
    "name": "ipython",
    "version": 3
   },
   "file_extension": ".py",
   "mimetype": "text/x-python",
   "name": "python",
   "nbconvert_exporter": "python",
   "pygments_lexer": "ipython3",
   "version": "3.11.11"
  }
 },
 "nbformat": 4,
 "nbformat_minor": 2
}
