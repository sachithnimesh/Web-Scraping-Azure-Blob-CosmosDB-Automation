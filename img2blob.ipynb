{
 "cells": [
  {
   "cell_type": "code",
   "execution_count": 26,
   "metadata": {},
   "outputs": [
    {
     "name": "stdout",
     "output_type": "stream",
     "text": [
      "Requirement already satisfied: azure-storage-blob in c:\\users\\sachithn\\appdata\\local\\anaconda3\\lib\\site-packages (12.25.0)\n",
      "Requirement already satisfied: azure-core>=1.30.0 in c:\\users\\sachithn\\appdata\\local\\anaconda3\\lib\\site-packages (from azure-storage-blob) (1.32.0)\n",
      "Requirement already satisfied: cryptography>=2.1.4 in c:\\users\\sachithn\\appdata\\local\\anaconda3\\lib\\site-packages (from azure-storage-blob) (43.0.0)\n",
      "Requirement already satisfied: typing-extensions>=4.6.0 in c:\\users\\sachithn\\appdata\\local\\anaconda3\\lib\\site-packages (from azure-storage-blob) (4.11.0)\n",
      "Requirement already satisfied: isodate>=0.6.1 in c:\\users\\sachithn\\appdata\\local\\anaconda3\\lib\\site-packages (from azure-storage-blob) (0.7.2)\n",
      "Requirement already satisfied: requests>=2.21.0 in c:\\users\\sachithn\\appdata\\local\\anaconda3\\lib\\site-packages (from azure-core>=1.30.0->azure-storage-blob) (2.32.3)\n",
      "Requirement already satisfied: six>=1.11.0 in c:\\users\\sachithn\\appdata\\local\\anaconda3\\lib\\site-packages (from azure-core>=1.30.0->azure-storage-blob) (1.16.0)\n",
      "Requirement already satisfied: cffi>=1.12 in c:\\users\\sachithn\\appdata\\local\\anaconda3\\lib\\site-packages (from cryptography>=2.1.4->azure-storage-blob) (1.17.1)\n",
      "Requirement already satisfied: pycparser in c:\\users\\sachithn\\appdata\\local\\anaconda3\\lib\\site-packages (from cffi>=1.12->cryptography>=2.1.4->azure-storage-blob) (2.21)\n",
      "Requirement already satisfied: charset-normalizer<4,>=2 in c:\\users\\sachithn\\appdata\\local\\anaconda3\\lib\\site-packages (from requests>=2.21.0->azure-core>=1.30.0->azure-storage-blob) (3.3.2)\n",
      "Requirement already satisfied: idna<4,>=2.5 in c:\\users\\sachithn\\appdata\\local\\anaconda3\\lib\\site-packages (from requests>=2.21.0->azure-core>=1.30.0->azure-storage-blob) (3.7)\n",
      "Requirement already satisfied: urllib3<3,>=1.21.1 in c:\\users\\sachithn\\appdata\\local\\anaconda3\\lib\\site-packages (from requests>=2.21.0->azure-core>=1.30.0->azure-storage-blob) (2.2.3)\n",
      "Requirement already satisfied: certifi>=2017.4.17 in c:\\users\\sachithn\\appdata\\local\\anaconda3\\lib\\site-packages (from requests>=2.21.0->azure-core>=1.30.0->azure-storage-blob) (2024.8.30)\n",
      "Note: you may need to restart the kernel to use updated packages.\n"
     ]
    }
   ],
   "source": [
    "%pip install azure-storage-blob\n",
    "import requests\n",
    "from bs4 import BeautifulSoup\n",
    "import pandas as pd\n",
    "import os\n",
    "from azure.storage.blob import BlobServiceClient\n",
    "from dotenv import load_dotenv\n"
   ]
  },
  {
   "cell_type": "code",
   "execution_count": 27,
   "metadata": {},
   "outputs": [
    {
     "data": {
      "text/html": [
       "<div>\n",
       "<style scoped>\n",
       "    .dataframe tbody tr th:only-of-type {\n",
       "        vertical-align: middle;\n",
       "    }\n",
       "\n",
       "    .dataframe tbody tr th {\n",
       "        vertical-align: top;\n",
       "    }\n",
       "\n",
       "    .dataframe thead th {\n",
       "        text-align: right;\n",
       "    }\n",
       "</style>\n",
       "<table border=\"1\" class=\"dataframe\">\n",
       "  <thead>\n",
       "    <tr style=\"text-align: right;\">\n",
       "      <th></th>\n",
       "      <th>Title</th>\n",
       "      <th>Kilometers</th>\n",
       "      <th>Location &amp; Category</th>\n",
       "      <th>Price</th>\n",
       "      <th>Image URL</th>\n",
       "      <th>Link</th>\n",
       "    </tr>\n",
       "  </thead>\n",
       "  <tbody>\n",
       "    <tr>\n",
       "      <th>0</th>\n",
       "      <td>Bajaj Pulsar 180 2011</td>\n",
       "      <td>NaN</td>\n",
       "      <td>Colombo, Motorbikes</td>\n",
       "      <td>Rs 370,000</td>\n",
       "      <td>https://i.ikman-st.com/bajaj-pulsar-180-2011-f...</td>\n",
       "      <td>https://ikman.lk/en/ad/bajaj-pulsar-180-2011-f...</td>\n",
       "    </tr>\n",
       "    <tr>\n",
       "      <th>1</th>\n",
       "      <td>Bajaj XCD 125 2008</td>\n",
       "      <td>NaN</td>\n",
       "      <td>Kurunegala, Motorbikes</td>\n",
       "      <td>Rs 145,000</td>\n",
       "      <td>https://i.ikman-st.com/bajaj-xcd-125-2008-for-...</td>\n",
       "      <td>https://ikman.lk/en/ad/bajaj-xcd-125-2008-for-...</td>\n",
       "    </tr>\n",
       "    <tr>\n",
       "      <th>2</th>\n",
       "      <td>Hero Splendor i smart 2014</td>\n",
       "      <td>NaN</td>\n",
       "      <td>Trincomalee, Motorbikes</td>\n",
       "      <td>Rs 270,000</td>\n",
       "      <td>https://i.ikman-st.com/hero-splendor-i-smart-2...</td>\n",
       "      <td>https://ikman.lk/en/ad/hero-splendor-i-smart-2...</td>\n",
       "    </tr>\n",
       "    <tr>\n",
       "      <th>3</th>\n",
       "      <td>Bajaj Pulsar 135 2012</td>\n",
       "      <td>NaN</td>\n",
       "      <td>Gampaha, Motorbikes</td>\n",
       "      <td>Rs 235,000</td>\n",
       "      <td>https://i.ikman-st.com/bajaj-pulsar-135-2012-f...</td>\n",
       "      <td>https://ikman.lk/en/ad/bajaj-pulsar-135-2012-f...</td>\n",
       "    </tr>\n",
       "    <tr>\n",
       "      <th>4</th>\n",
       "      <td>Bajaj CT100 BRAND NEW 2025 145</td>\n",
       "      <td>NaN</td>\n",
       "      <td>Kegalle, Motorbikes</td>\n",
       "      <td>Rs 131,500</td>\n",
       "      <td>https://i.ikman-st.com/bajaj-ct100-brand-new-2...</td>\n",
       "      <td>https://ikman.lk/en/ad/bajaj-ct100-brand-new-2...</td>\n",
       "    </tr>\n",
       "  </tbody>\n",
       "</table>\n",
       "</div>"
      ],
      "text/plain": [
       "                            Title  Kilometers      Location & Category  \\\n",
       "0           Bajaj Pulsar 180 2011         NaN      Colombo, Motorbikes   \n",
       "1              Bajaj XCD 125 2008         NaN   Kurunegala, Motorbikes   \n",
       "2      Hero Splendor i smart 2014         NaN  Trincomalee, Motorbikes   \n",
       "3           Bajaj Pulsar 135 2012         NaN      Gampaha, Motorbikes   \n",
       "4  Bajaj CT100 BRAND NEW 2025 145         NaN      Kegalle, Motorbikes   \n",
       "\n",
       "        Price                                          Image URL  \\\n",
       "0  Rs 370,000  https://i.ikman-st.com/bajaj-pulsar-180-2011-f...   \n",
       "1  Rs 145,000  https://i.ikman-st.com/bajaj-xcd-125-2008-for-...   \n",
       "2  Rs 270,000  https://i.ikman-st.com/hero-splendor-i-smart-2...   \n",
       "3  Rs 235,000  https://i.ikman-st.com/bajaj-pulsar-135-2012-f...   \n",
       "4  Rs 131,500  https://i.ikman-st.com/bajaj-ct100-brand-new-2...   \n",
       "\n",
       "                                                Link  \n",
       "0  https://ikman.lk/en/ad/bajaj-pulsar-180-2011-f...  \n",
       "1  https://ikman.lk/en/ad/bajaj-xcd-125-2008-for-...  \n",
       "2  https://ikman.lk/en/ad/hero-splendor-i-smart-2...  \n",
       "3  https://ikman.lk/en/ad/bajaj-pulsar-135-2012-f...  \n",
       "4  https://ikman.lk/en/ad/bajaj-ct100-brand-new-2...  "
      ]
     },
     "execution_count": 27,
     "metadata": {},
     "output_type": "execute_result"
    }
   ],
   "source": [
    "\n",
    "# Read Excel file to get image URLs\n",
    "df = pd.read_excel(\"top_5_motorbikes.xlsx\")\n",
    "df.head()"
   ]
  },
  {
   "cell_type": "code",
   "execution_count": 28,
   "metadata": {},
   "outputs": [
    {
     "name": "stdout",
     "output_type": "stream",
     "text": [
      "Downloaded: image_1_2025-03-17.jpg\n",
      "Downloaded: image_2_2025-03-17.jpg\n",
      "Downloaded: image_3_2025-03-17.jpg\n",
      "Downloaded: image_4_2025-03-17.jpg\n",
      "Downloaded: image_5_2025-03-17.jpg\n",
      "All images are saved in folder: D:\\Browns\\Web Scrapping\\images_on_2025-03-17\n"
     ]
    }
   ],
   "source": [
    "import os\n",
    "import requests\n",
    "import pandas as pd\n",
    "from datetime import datetime\n",
    "\n",
    "\n",
    "# Get today's date\n",
    "today_date = datetime.today().strftime('%Y-%m-%d')\n",
    "\n",
    "# Define the project folder path and image folder with today's date\n",
    "project_dir = r\"D:\\Browns\\Web Scrapping\"\n",
    "image_folder = f\"images_on_{today_date}\"\n",
    "save_dir = os.path.join(project_dir, image_folder)\n",
    "\n",
    "# Create the directory if it does not exist\n",
    "os.makedirs(save_dir, exist_ok=True)\n",
    "\n",
    "# Loop to download images\n",
    "for index, row in df.iterrows():\n",
    "    image_url = row['Image URL']\n",
    "    if pd.notnull(image_url) and len(image_url) > 10:\n",
    "        image_name = f\"image_{index+1}_{today_date}.jpg\"\n",
    "        image_path = os.path.join(save_dir, image_name)\n",
    "        try:\n",
    "            response = requests.get(image_url, stream=True)\n",
    "            if response.status_code == 200:\n",
    "                with open(image_path, 'wb') as f:\n",
    "                    for chunk in response.iter_content(1024):\n",
    "                        f.write(chunk)\n",
    "                print(f\"Downloaded: {image_name}\")\n",
    "            else:\n",
    "                print(f\"Failed to download: {image_url} - Status code: {response.status_code}\")\n",
    "        except Exception as e:\n",
    "            print(f\"Error downloading {image_url}: {e}\")\n",
    "\n",
    "print(f\"All images are saved in folder: {save_dir}\")\n"
   ]
  },
  {
   "cell_type": "code",
   "execution_count": 29,
   "metadata": {},
   "outputs": [],
   "source": [
    "import os\n",
    "import requests\n",
    "import pandas as pd\n",
    "from datetime import datetime\n",
    "from azure.storage.blob import BlobServiceClient\n",
    "from dotenv import load_dotenv\n",
    "\n",
    "# Step 1: Load Azure Key from .env file\n",
    "load_dotenv()\n",
    "azure_key = os.getenv(\"key\")\n",
    "account_name = \"<your_storage_account_name>\"  # Replace with your actual account name\n",
    "connection_string = f\"DefaultEndpointsProtocol=https;AccountName={account_name};AccountKey={azure_key};EndpointSuffix=core.windows.net\"\n"
   ]
  },
  {
   "cell_type": "code",
   "execution_count": 22,
   "metadata": {},
   "outputs": [
    {
     "name": "stdout",
     "output_type": "stream",
     "text": [
      "Container 'images4sachith' created.\n"
     ]
    }
   ],
   "source": [
    "# Step 5: Upload to Azure Blob Storage\n",
    "#blob_service_client = BlobServiceClient.from_connection_string(connection_string)\n",
    "\n",
    "# Create container if it doesn't exist\n",
    "#container_name = f\"images4sachith\"\n",
    "#try:\n",
    "   # blob_service_client.create_container(container_name)\n",
    "    #print(f\"Container '{container_name}' created.\")\n",
    "#except Exception as e:\n",
    " #   print(f\"Container may already exist or error: {e}\")\n",
    "\n"
   ]
  },
  {
   "cell_type": "code",
   "execution_count": 30,
   "metadata": {},
   "outputs": [],
   "source": [
    "container_name = \"images4sachith\"\n"
   ]
  },
  {
   "cell_type": "code",
   "execution_count": 35,
   "metadata": {},
   "outputs": [
    {
     "name": "stdout",
     "output_type": "stream",
     "text": [
      "Uploaded image_1.jpg to container 'images4sachith'\n",
      "Uploaded image_1_2025-03-17.jpg to container 'images4sachith'\n",
      "Uploaded image_2.jpg to container 'images4sachith'\n",
      "Uploaded image_2_2025-03-17.jpg to container 'images4sachith'\n",
      "Uploaded image_3.jpg to container 'images4sachith'\n",
      "Uploaded image_3_2025-03-17.jpg to container 'images4sachith'\n",
      "Uploaded image_4.jpg to container 'images4sachith'\n",
      "Uploaded image_4_2025-03-17.jpg to container 'images4sachith'\n",
      "Uploaded image_5.jpg to container 'images4sachith'\n",
      "Uploaded image_5_2025-03-17.jpg to container 'images4sachith'\n",
      "Upload to Azure Blob Storage completed.\n"
     ]
    }
   ],
   "source": [
    "# Upload files\n",
    "for root, dirs, files in os.walk(save_dir):\n",
    "    for file in files:\n",
    "        file_path = os.path.join(root, file)\n",
    "        blob_client = blob_service_client.get_blob_client(container=container_name, blob=f\"{today_date}/{file}\")\n",
    "        with open(file_path, \"rb\") as data:\n",
    "            blob_client.upload_blob(data=data, overwrite=True)\n",
    "        print(f\"Uploaded {file} to container '{container_name}'\")\n",
    "\n",
    "print(\"Upload to Azure Blob Storage completed.\")"
   ]
  }
 ],
 "metadata": {
  "kernelspec": {
   "display_name": "base",
   "language": "python",
   "name": "python3"
  },
  "language_info": {
   "codemirror_mode": {
    "name": "ipython",
    "version": 3
   },
   "file_extension": ".py",
   "mimetype": "text/x-python",
   "name": "python",
   "nbconvert_exporter": "python",
   "pygments_lexer": "ipython3",
   "version": "3.12.7"
  }
 },
 "nbformat": 4,
 "nbformat_minor": 2
}
